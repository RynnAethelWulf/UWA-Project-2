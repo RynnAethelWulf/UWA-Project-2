{
 "cells": [
  {
   "cell_type": "code",
   "execution_count": null,
   "metadata": {},
   "outputs": [],
   "source": [
    "import requests\n",
    "from pprint import pprint\n",
    "import pandas as pd\n",
    "API_KEY = \"e1f3e56d62ce497fa4d15b664cbb014c\"\n",
    "para = {\n",
    "   \"key\":API_KEY,\n",
    "    \"dates\":\"2019-09-01,2020-09-30\",\n",
    "    \"platforms\":\"18,1,7\"\n",
    "}\n",
    "url = \"https://api.rawg.io/api/games\"\n",
    "data = requests.get(url,params=para).json()"
   ]
  },
  {
   "cell_type": "code",
   "execution_count": null,
   "metadata": {},
   "outputs": [],
   "source": [
    "num = len(data['results'])\n"
   ]
  },
  {
   "cell_type": "code",
   "execution_count": null,
   "metadata": {},
   "outputs": [],
   "source": [
    "for i in range(0,num):\n",
    "    pprint(data['results'][i]['name'])"
   ]
  },
  {
   "cell_type": "code",
   "execution_count": null,
   "metadata": {},
   "outputs": [],
   "source": [
    "id_num=platform =[]\n",
    "platforms = requests.get(f\"https://api.rawg.io/api/platforms\").json()\n",
    "total_platforms = len(platforms['results'])\n",
    "for n in range(0,total_platforms):\n",
    "        id_num.append(platforms['results'][n]['id'])\n",
    "        platform.append(platforms['results'][n]['name'])\n",
    "\n",
    "df = pd.DataFrame({\n",
    "            \"id\":[id_num],\n",
    "            \"platform\":[platforms]\n",
    "        })\n",
    "df"
   ]
  }
 ],
 "metadata": {
  "kernelspec": {
   "display_name": "Python 3",
   "language": "python",
   "name": "python3"
  },
  "language_info": {
   "codemirror_mode": {
    "name": "ipython",
    "version": 3
   },
   "file_extension": ".py",
   "mimetype": "text/x-python",
   "name": "python",
   "nbconvert_exporter": "python",
   "pygments_lexer": "ipython3",
   "version": "3.8.3"
  },
  "varInspector": {
   "cols": {
    "lenName": 16,
    "lenType": 16,
    "lenVar": 40
   },
   "kernels_config": {
    "python": {
     "delete_cmd_postfix": "",
     "delete_cmd_prefix": "del ",
     "library": "var_list.py",
     "varRefreshCmd": "print(var_dic_list())"
    },
    "r": {
     "delete_cmd_postfix": ") ",
     "delete_cmd_prefix": "rm(",
     "library": "var_list.r",
     "varRefreshCmd": "cat(var_dic_list()) "
    }
   },
   "types_to_exclude": [
    "module",
    "function",
    "builtin_function_or_method",
    "instance",
    "_Feature"
   ],
   "window_display": false
  }
 },
 "nbformat": 4,
 "nbformat_minor": 4
}
